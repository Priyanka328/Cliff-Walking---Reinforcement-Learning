{
 "cells": [
  {
   "cell_type": "markdown",
   "metadata": {},
   "source": [
    "## Reinforcement Learning on Cliff Walking Problem\n",
    "\n",
    "In this notebook a simple reinforcement learning algorithm will be implemented from scratch. I will model the environment with a 2D array. For further knowledge please look at the following book:\n",
    "\n",
    "Reinforcement Learning: An Introduction\n",
    "R. Sutton, and A. Barto. \n",
    "The MIT Press, Second edition, (2018)\n"
   ]
  },
  {
   "cell_type": "markdown",
   "metadata": {},
   "source": [
    "\n",
    "\n",
    "Let us start by importing the related libraries"
   ]
  },
  {
   "cell_type": "code",
   "execution_count": 1,
   "metadata": {},
   "outputs": [],
   "source": [
    "import random\n",
    "import numpy as np\n",
    "import matplotlib.pyplot as plt\n"
   ]
  },
  {
   "cell_type": "markdown",
   "metadata": {},
   "source": [
    "In the following sections I will use a \"copy\" command to copy the action list and also for debugging purposes I want to see all the elements of a numpy regardless of the size of the matrix. To enable these the followings should be written:"
   ]
  },
  {
   "cell_type": "code",
   "execution_count": 2,
   "metadata": {},
   "outputs": [],
   "source": [
    "import copy\n",
    "np.set_printoptions(threshold = np.inf)"
   ]
  },
  {
   "cell_type": "markdown",
   "metadata": {},
   "source": [
    "![Cliff Walking](https://cdn-images-1.medium.com/max/1600/1*cAezGWdRG9_3DXrKg3uftw.jpeg)"
   ]
  },
  {
   "cell_type": "markdown",
   "metadata": {},
   "source": [
    "The task is simply to reach the point G by starting from point S in the map. However, there is a cliff we should avoid so that -100 reward incurs if a transition into the cliff is made. We will use two approaches to solve the problem as it can be seen from the picture. If we use **SARSA (State-Action-Reward-State-Action)** the agent will choose the safer path above. On the other side if we use **Q-Learning** the agent will choose relatively more dangerous but closer path. Note that these two methods are versions of **Temporal Difference** methods since they update the value function at each _time step_, not at each _episode_. Let's start with global methods."
   ]
  },
  {
   "cell_type": "code",
   "execution_count": 3,
   "metadata": {},
   "outputs": [],
   "source": [
    "def display2D(array):\n",
    "    for row in array:\n",
    "        # Loop over columns.\n",
    "        for column in row:\n",
    "            print(column.getSign(), end=\" \")\n",
    "        # getSign() basically returns 'O' to represent nonvisited element\n",
    "        # 'C' to cliff and 'X' to represent visited element\n",
    "        print(end=\"\\n\")"
   ]
  },
  {
   "cell_type": "markdown",
   "metadata": {},
   "source": [
    "To display the rewards for debugging purpose"
   ]
  },
  {
   "cell_type": "code",
   "execution_count": 4,
   "metadata": {},
   "outputs": [],
   "source": [
    "def displayRewards(array):\n",
    "    for row in array:\n",
    "        # Loop over columns\n",
    "        for column in row:\n",
    "            print(column.getReward(), end=\" \")\n",
    "        print(end='\\n')"
   ]
  },
  {
   "cell_type": "markdown",
   "metadata": {},
   "source": [
    "To handle the rewards the following method is written. Note that rewards are strictly taken from the book. Different rewards will result in different solutions so that **reward function implementation is one of the most important concepts in RL**. For this application the cliffs incurs -100 and other transitions incur -1. Also note that, generally rewards are implemented via a state-action matrix. However, for this problem actually what matters only is the state where you end up, not the action. Hence, I will embed the rewards into the states. This method will not work when the action also matters."
   ]
  },
  {
   "cell_type": "code",
   "execution_count": 5,
   "metadata": {},
   "outputs": [],
   "source": [
    "def handleRewards(array,last_row, column):\n",
    "    # column - 2 equals to number of cliff elements\n",
    "    for i in range (column - 2):\n",
    "        array[last_row][i+1].setReward(-100)\n",
    "    #array[last_row][column - 1].setReward(50)"
   ]
  },
  {
   "cell_type": "markdown",
   "metadata": {},
   "source": [
    "The following method shifts an array by 1 to the left and adds a new element from right. Basically, we will smooth the curve by averaging the last n cumulative rewards. This method does not make anything different than a queue."
   ]
  },
  {
   "cell_type": "code",
   "execution_count": 6,
   "metadata": {},
   "outputs": [],
   "source": [
    "def shiftAndAddArray(arrayToShift, newElement):\n",
    "    for i in range(len(arrayToShift) - 1):\n",
    "        arrayToShift[i] = arrayToShift[i + 1]\n",
    "    arrayToShift[len(arrayToShift) - 1] = newElement\n",
    "    return arrayToShift"
   ]
  },
  {
   "cell_type": "markdown",
   "metadata": {},
   "source": [
    "Let's implement our class States and the required methods before implementing SARSA and Q methods. However, the first thing is to create a global action_list to use."
   ]
  },
  {
   "cell_type": "code",
   "execution_count": 7,
   "metadata": {},
   "outputs": [],
   "source": [
    "actionList = [0, 1, 2, 3]       # 0 for right,1 for down, 2 for up, 3 for left"
   ]
  },
  {
   "cell_type": "code",
   "execution_count": 8,
   "metadata": {},
   "outputs": [],
   "source": [
    "class States:\n",
    "    #sign indicates the position if sign is C it is cliff, if S starting point F is finishing point\n",
    "    # O is empty spot X is where the agent travels\n",
    "    def __init__(self,sign,reward,row,column):\n",
    "        self.sign = sign\n",
    "        self.reward = reward\n",
    "        self.row = row\n",
    "        self.column = column\n",
    "\n",
    "    # returns the reward of a particular state(note that states are enough for this problem for rewards)\n",
    "    def getReward(self):\n",
    "        return self.reward\n",
    "\n",
    "    # returns the signs of a particular state\n",
    "    def getSign(self):\n",
    "        return self.sign\n",
    "\n",
    "    # changes the sign of a particular state\n",
    "    def changeSign(self,newSign):\n",
    "        self.sign = newSign\n",
    "\n",
    "    # changes the reward of a particular state\n",
    "    def setReward(self,newReward):\n",
    "        self.reward = newReward\n",
    "\n",
    "    \"\"\"Returns an action (encoded integer) by using a epsilon-greedy approach\"\"\"\n",
    "    def eGreedy(self,Qvalue,epsilon,last_row_index, last_column_index): # returns action\n",
    "        newActionList = actionList.copy()  # new action list to choose by eliminating prohibited actions\n",
    "        if self.row == 0 and self.column == 0: # no up or left\n",
    "            newActionList.remove(3)   # remove left\n",
    "            newActionList.remove(2)   # remove up\n",
    "        elif self.row == last_row_index and self.column == 0:  # no down or left\n",
    "            newActionList.remove(3)   # remove left\n",
    "            newActionList.remove(1)   # remove down\n",
    "        elif self.row == 0 and self.column == last_column_index:  # no up or right\n",
    "            newActionList.remove(0)   # remove right\n",
    "            newActionList.remove(2)   # remove up\n",
    "        elif self.row == last_row_index and self.column == last_column_index:  # no down or right\n",
    "            newActionList.remove(0)   # remove right\n",
    "            newActionList.remove(1)   # remove down\n",
    "        # More general cases for prohibiting actions\n",
    "        elif self.row == 0:  # no up\n",
    "            newActionList.remove(2) # remove up\n",
    "        elif self.row == last_row_index: # no down\n",
    "            newActionList.remove(1) # remove down\n",
    "        elif self.column == 0:  # no left\n",
    "            newActionList.remove(3) # remove left\n",
    "        elif self.column == last_column_index:  # no right\n",
    "            newActionList.remove(0) # remove right\n",
    "\n",
    "        probability = random.uniform(0, 1) # random number between 0 and 1 for epsilon greedy\n",
    "        # To ensure exploration and exploitation e-greedy approach is used\n",
    "        if probability < 1 - epsilon:  # greedy action\n",
    "            return self.findMaxIndex(Qvalue, newActionList,last_row_index,last_column_index)\n",
    "        else:  # random action\n",
    "            return random.choice(newActionList)\n",
    "\n",
    "    \"\"\"Returns a pure greedy action without exploration\"\"\"\n",
    "    def ePureGreedy(self,Qvalue,last_row_index, last_column_index):\n",
    "        newActionList = actionList.copy()  # copy action list again\n",
    "        if self.row == 0 and self.column == 0:  # no up or left\n",
    "            newActionList.remove(3)  # remove left\n",
    "            newActionList.remove(2)  # remove up\n",
    "        elif self.row == last_row_index and self.column == 0:  # no down or left\n",
    "            newActionList.remove(3)  # remove left\n",
    "            newActionList.remove(1)  # remove down\n",
    "        elif self.row == 0 and self.column == last_column_index:  # no up or right\n",
    "            newActionList.remove(0)  # remove right\n",
    "            newActionList.remove(2)  # remove up\n",
    "        elif self.row == last_row_index and self.column == last_column_index:  # no down or right\n",
    "            newActionList.remove(0)\n",
    "            newActionList.remove(1)\n",
    "        # More general cases\n",
    "        elif self.row == 0:  # no up\n",
    "            newActionList.remove(2)  # remove up\n",
    "        elif self.row == last_row_index:  # no down\n",
    "            newActionList.remove(1)  # remove down\n",
    "        elif self.column == 0:  # no left\n",
    "            newActionList.remove(3)  # remove left\n",
    "        elif self.column == last_column_index:  # no right\n",
    "            newActionList.remove(0)  # remove right\n",
    "\n",
    "        return self.findMaxIndex(Qvalue, newActionList,last_row_index,last_column_index)\n",
    "\n",
    "    # change the state according to the action\n",
    "    def takeAction(self,array,action,Qvalue,last_row_index, last_column_index,epsilon):\n",
    "        #  note that action is an integer value\n",
    "        #  if 0 right, 1 down, 2 up, 3 left\n",
    "        # the following 4 lines of code can be discarded by inputting newAction list to this method\n",
    "        # I used a recursive approach for the solution by checking again whether motions are valid\n",
    "\n",
    "        # row = 0 -> we can't go up - call eGreedy for a valid action\n",
    "        if self.row == 0 and action == 2:  # if row 0 then up is not valid - call again eGreedy\n",
    "            newAction = self.eGreedy(Qvalue, epsilon,last_row_index, last_column_index)\n",
    "            return self.takeAction(array,newAction,Qvalue,last_row_index,last_column_index,epsilon)\n",
    "        # row == last_row_index -> can't go down\n",
    "        elif self.row == last_row_index and action == 1:\n",
    "            newAction = self.eGreedy(Qvalue, epsilon,last_row_index, last_column_index)\n",
    "            return self.takeAction(array, newAction,Qvalue,last_row_index,last_column_index,epsilon)\n",
    "        # column == last_column_index can't go right\n",
    "        elif self.column == last_column_index and action == 0:\n",
    "            newAction = self.eGreedy(Qvalue, epsilon,last_row_index, last_column_index)\n",
    "            return self.takeAction(array, newAction,Qvalue,last_row_index,last_column_index,epsilon)\n",
    "        # column = 0 -> can't go left\n",
    "        elif self.column == 0 and action == 3:\n",
    "            newAction = self.eGreedy(Qvalue, epsilon,last_row_index, last_column_index)\n",
    "            return self.takeAction(array, newAction,Qvalue, last_row_index, last_column_index,epsilon)\n",
    "\n",
    "        else:  # if everything is valid\n",
    "            if action == 0:  # right\n",
    "                next_state = array[self.row][self.column+1]  # update the state\n",
    "            elif action == 1:  # down\n",
    "                next_state = array[self.row + 1][self.column]  # update the state\n",
    "            elif action == 2:  # up\n",
    "                next_state = array[self.row - 1][self.column]  # update the state\n",
    "            elif action == 3:  # left\n",
    "                next_state = array[self.row][self.column - 1]\n",
    "        return next_state\n",
    "\n",
    "    def findMaxIndex(self, Qvalue, actionList, last_row_index, last_column_index):  # returns index of maximum number, for maximum value action\n",
    "        \"\"\"2D array modeled as a vector such a way that from left-to-right and up-to-down state number is incremented\n",
    "        i.e  0 - 1 - 2 - ..... - 11\n",
    "             12 - 13 - ....... - 23\n",
    "             24 - 25 - ....... - 35\n",
    "             36 - 37 - ....... - 47\n",
    "\n",
    "        Also state-action matrix is constrcuted and values Q values are stored in that in the following way\n",
    "        i.e      Actions\n",
    "        States   Right     Down    Up     Left\n",
    "        ...       ...       ...     ...     ....\n",
    "        State 11  -4.4      14.6    0.6    6.4\n",
    "        ...       ...       ...     ...     ....\n",
    "        if the model is 12 row and 4 columns then state 11 refers to the right-top point in which case the maximum\n",
    "        action will be going down\n",
    "        \"\"\"\n",
    "        maxIndex = np.argmax(Qvalue[self.row*12+self.column])\n",
    "        return maxIndex\n",
    "\n",
    "    #  checks whether the current state is terminal or not for ending the episode\n",
    "    def isTerminal(self,last_row_index):\n",
    "        # returns 1 if the current state is terminal - cliff or finish point\n",
    "        if self.row == last_row_index and self.column > 0:\n",
    "            return 1\n",
    "        else:\n",
    "            return 0"
   ]
  },
  {
   "cell_type": "markdown",
   "metadata": {},
   "source": [
    "Now Let's start with SARSA. Before implementing, the algorithm can be given as follows from the book referenced above. Notice that while updating the policy, the same policy is used."
   ]
  },
  {
   "cell_type": "markdown",
   "metadata": {},
   "source": [
    "![Sarsa](https://cdn-images-1.medium.com/max/1600/1*7WZZgbJQr5lh86LRB2pbVg.png)"
   ]
  },
  {
   "cell_type": "code",
   "execution_count": 9,
   "metadata": {},
   "outputs": [],
   "source": [
    "\n",
    "\"\"\"\n",
    "@params\n",
    "    array = state grid we constructed\n",
    "    row_number = #rows of state grid\n",
    "    column_number = #columns of state grid\n",
    "    episodes = #episodes \n",
    "    steps = #steps within episodes\n",
    "    alpha = learning rate\n",
    "    gama = discount factor\n",
    "    \n",
    "\"\"\"\n",
    "def applySarsa(array,row_number,column_number,episodes,steps,alpha,gama):\n",
    "    state_number = row_number * column_number\n",
    "    last_row_index = row_number - 1\n",
    "    last_column_index = column_number - 1\n",
    "    action_number = 4\n",
    "    epsilon_sarsa = 0.2  # hyperparameter to tune actually\n",
    "    # random initialization of the q table\n",
    "    q_table = np.random.rand(state_number, action_number)\n",
    "    # terminal state initialization\n",
    "    q_table[state_number - 1][0] = 0\n",
    "    q_table[state_number - 1][1] = 0\n",
    "    q_table[state_number - 1][2] = 0\n",
    "    q_table[state_number - 1][3] = 0\n",
    "    rewardArray = []  # initialize - for plotting purpose\n",
    "    episodeArray = [] # initialize - for plotting purpose\n",
    "    windowing_average_samples = 40\n",
    "    #  the number here is the window for taking moving average to smooth the graph\n",
    "    averageRewardArray = np.zeros(windowing_average_samples)  #\n",
    "    for i in range(episodes):  # loop for each episode\n",
    "        \"\"\"Following code segment can be used to try epsilon decaying strategy\n",
    "            basically by decaying epsilon in couple of episodes we force the agent to follow only exploit\n",
    "            not explore after a point. For this problem I did not use this approach..\n",
    "            \n",
    "            if(i % some_number_of_episodes == 0 and epsilon > some threshold):\n",
    "              epsilon = epsilon - 0.01 \"\"\"\n",
    "        totalReward = 0\n",
    "        episodeArray.append(i)\n",
    "        current_state = array[last_row_index][0] # initial state S\n",
    "        # choose action A from S using policy derived from Q\n",
    "        action = current_state.eGreedy(q_table,epsilon_sarsa, last_row_index, last_column_index) \n",
    "        count = 0\n",
    "        while count in range(steps) and current_state.isTerminal(last_row_index) == 0:\n",
    "            count = count + 1\n",
    "            # take action A, observe R,S'\n",
    "            next_state = current_state.takeAction(array, action,q_table,last_row_index,last_column_index,epsilon_sarsa)\n",
    "            reward_got = next_state.getReward()\n",
    "            totalReward = totalReward + reward_got\n",
    "            # choose A' from S' using policy derived from Q\n",
    "            followingAction = next_state.eGreedy(q_table,epsilon_sarsa,last_row_index, last_column_index)\n",
    "            q_table_next = q_table[((next_state.row)*12)+next_state.column][followingAction]\n",
    "            q_table_current = q_table[((current_state.row)*12)+current_state.column][action]\n",
    "            # update of the q method\n",
    "            q_table[((current_state.row)*12)+current_state.column][action] = q_table_current + alpha*(reward_got +\n",
    "                                                                                gama*q_table_next - q_table_current)\n",
    "            # update the state\n",
    "            current_state = next_state\n",
    "            action = followingAction\n",
    "        averageRewardArray = shiftAndAddArray(averageRewardArray, totalReward)\n",
    "        valueToDraw = np.sum(averageRewardArray) / np.count_nonzero(averageRewardArray)\n",
    "        rewardArray.append(valueToDraw)\n",
    "    print(\"Sarsa TRAINING IS OVER\")\n",
    "    # draw the final path\n",
    "    drawPath(array, q_table,last_row_index,last_column_index, epsilon_sarsa)\n",
    "    # clip a segment because they corrupt the moving average\n",
    "    episodeArray = episodeArray[10:]\n",
    "    rewardArray = rewardArray[10:]\n",
    "    # plotting\n",
    "    plt.plot(episodeArray, rewardArray)\n",
    "    plt.xlabel('episodes')\n",
    "    plt.ylabel('Total reward(smoothed)')\n",
    "    print(averageRewardArray)\n",
    "\n"
   ]
  },
  {
   "cell_type": "markdown",
   "metadata": {},
   "source": [
    "The algorithm for Q learning is as follows. Notice that while updating the Q value greedy policy is used which is the only difference from SARSA. "
   ]
  },
  {
   "attachments": {},
   "cell_type": "markdown",
   "metadata": {},
   "source": [
    "![Q](https://cdn-images-1.medium.com/max/1600/1*d203n7cIso731qhJ7eOAkg.png)"
   ]
  },
  {
   "cell_type": "code",
   "execution_count": 10,
   "metadata": {},
   "outputs": [],
   "source": [
    "\n",
    "\"\"\"\n",
    "@params\n",
    "    array = state grid we constructed\n",
    "    row_number = #rows of state grid\n",
    "    column_number = #columns of state grid\n",
    "    episodes = #episodes \n",
    "    steps = #steps within episodes\n",
    "    alpha = learning rate\n",
    "    gama = discount factor\n",
    "\n",
    "\"\"\"\n",
    "\n",
    "def applyQlearning(array,row_number,column_number,episodes,steps,alpha,gama):\n",
    "    epsilon_q = 0.1\n",
    "    state_number = row_number * column_number\n",
    "    last_row_index = row_number - 1\n",
    "    last_column_index = column_number - 1\n",
    "    action_number = 4\n",
    "    q_table = np.random.rand(state_number, action_number)\n",
    "    # terminal state initialization\n",
    "    q_table[state_number - 1][0] = 0\n",
    "    q_table[state_number - 1][1] = 0\n",
    "    q_table[state_number - 1][2] = 0\n",
    "    q_table[state_number - 1][3] = 0\n",
    "    rewardArray = []\n",
    "    episodeArray = []\n",
    "    #   averageRewardArray = [0, 0, 0, 0, 0, 0, 0, 0, 0, 0]\n",
    "    windowing_average_samples = 40\n",
    "    averageRewardArray = np.zeros(windowing_average_samples)\n",
    "    for i in range(episodes):  # loop for each episode\n",
    "        step = 0\n",
    "        #     if (i % 50 == 0 and epsilonNew > 0.01):\n",
    "         #   epsilonNew = epsilonNew - 0.01\n",
    "        current_state = array[3][0]  # initialize S\n",
    "        count = 0\n",
    "        totalReward = 0\n",
    "        episodeArray.append(i)\n",
    "        while (count in range(steps) and current_state.isTerminal(last_row_index) == 0):\n",
    "            step = step + 1\n",
    "            count = count + 1\n",
    "            # choose action A from S using policy derived from Q\n",
    "            action = current_state.eGreedy(q_table,epsilon_q, last_row_index,last_column_index)\n",
    "            # take action A, observe R,S'\n",
    "            next_state = current_state.takeAction(array, action, q_table,last_row_index,last_column_index,epsilon_q)\n",
    "            reward_got = next_state.getReward()\n",
    "            totalReward = totalReward + reward_got\n",
    "            actionMax = next_state.ePureGreedy(q_table,last_row_index,last_column_index)\n",
    "            q_table_max = q_table[(next_state.row * column_number) + next_state.column][actionMax]\n",
    "            q_table_current = q_table[(current_state.row * column_number) + current_state.column][action]\n",
    "            q_table[(current_state.row * column_number) + current_state.column][action] = q_table_current +\\\n",
    "                                            alpha * (reward_got + (gama * q_table_max) - q_table_current)  # update\n",
    "            current_state = next_state\n",
    "        averageRewardArray = shiftAndAddArray(averageRewardArray, totalReward)\n",
    "        valueToDraw = np.sum(averageRewardArray) / np.count_nonzero(averageRewardArray)\n",
    "        rewardArray.append(valueToDraw)\n",
    "    print(\"Q TRAINING IS OVER\")\n",
    "    episodeArray = episodeArray[10:]\n",
    "    rewardArray = rewardArray[10:]\n",
    "    drawPath(array, q_table,last_row_index,last_column_index,epsilon_q)\n",
    "    plt.plot(episodeArray, rewardArray)\n",
    "    plt.legend(['SARSA','Q learning'])\n",
    "    print(averageRewardArray)\n",
    "    plt.title(f'Smoothed by averaging {windowing_average_samples} successive episodes')\n",
    "    # limitting the overall boundary to have a nice vision\n",
    "    plt.ylim((-120, 0))\n",
    "    plt.show()\n",
    "\n"
   ]
  },
  {
   "cell_type": "markdown",
   "metadata": {},
   "source": [
    "These codes also contain plotting part. Therefore the last thing to do is simply drawing the path at the end of the training.\n"
   ]
  },
  {
   "cell_type": "code",
   "execution_count": 11,
   "metadata": {},
   "outputs": [],
   "source": [
    " #  this is for the test after the training\n",
    "def drawPath(array,Qvalue,last_row_index, last_column_index,epsilon):\n",
    "    current_state = array[last_row_index][0]  # initial state\n",
    "    greedyAction = current_state.ePureGreedy(Qvalue,last_row_index,last_column_index)  # action is determined\n",
    "    while(current_state.isTerminal(last_row_index) == 0):\n",
    "        next_state = current_state.takeAction(array,greedyAction,Qvalue,last_row_index, last_column_index,epsilon)\n",
    "        next_state.changeSign(\"X\")\n",
    "        followingAction = next_state.ePureGreedy(Qvalue,last_row_index, last_column_index)\n",
    "        current_state = next_state\n",
    "        greedyAction = followingAction\n",
    "    display2D(array)"
   ]
  },
  {
   "cell_type": "markdown",
   "metadata": {},
   "source": [
    "The main method can be given as follows:\n"
   ]
  },
  {
   "cell_type": "code",
   "execution_count": 12,
   "metadata": {},
   "outputs": [
    {
     "name": "stdout",
     "output_type": "stream",
     "text": [
      "O O O O O O O O O O O O \n",
      "O O O O O O O O O O O O \n",
      "O O O O O O O O O O O O \n",
      "O O O O O O O O O O O O \n",
      "OK HERE WE STOP\n",
      "O O O O O O O O O O O O \n",
      "O O O O O O O O O O O O \n",
      "O O O O O O O O O O O O \n",
      "S C C C C C C C C C C F \n",
      "-1 -1 -1 -1 -1 -1 -1 -1 -1 -1 -1 -1 \n",
      "-1 -1 -1 -1 -1 -1 -1 -1 -1 -1 -1 -1 \n",
      "-1 -1 -1 -1 -1 -1 -1 -1 -1 -1 -1 -1 \n",
      "-1 -100 -100 -100 -100 -100 -100 -100 -100 -100 -100 -1 \n",
      "CONSTRUCTED\n",
      "Sarsa TRAINING IS OVER\n",
      "X X X X X X X X X X X X \n",
      "X O O O O O O O O O O X \n",
      "X O O O O O O O O O O X \n",
      "S C C C C C C C C C C X \n",
      "[ -17.  -21.  -25.  -19.  -25.  -23.  -23.  -19.  -23.  -19.  -21.  -19.\n",
      "  -25.  -19.  -19.  -19. -100.  -23.  -17.  -17.  -17.  -17.  -19.  -21.\n",
      "  -19.  -19. -100. -100.  -25.  -19. -100.  -25.  -19.  -17.  -19.  -23.\n",
      "  -25.  -21.  -19.  -21.]\n",
      "Q TRAINING IS OVER\n",
      "O O O O O O O O O O O O \n",
      "O O O O O O O O O O O O \n",
      "X X X X X X X X X X X X \n",
      "S C C C C C C C C C C X \n",
      "[-102.  -19.  -15. -110.  -13. -107.  -13. -100.  -13.  -13. -100. -103.\n",
      "  -13.  -15. -100.  -13.  -15.  -15.  -13. -107.  -13.  -13.  -13.  -17.\n",
      "  -13.  -15.  -13.  -15.  -13. -109.  -15.  -13.  -15.  -13.  -13.  -13.\n",
      "  -13. -108.  -13.  -13.]\n"
     ]
    },
    {
     "data": {
      "image/png": "[encoded data removed]",
      "text/plain": [
       "<Figure size 432x288 with 1 Axes>"
      ]
     },
     "metadata": {
      "needs_background": "light"
     },
     "output_type": "display_data"
    }
   ],
   "source": [
    "def main():\n",
    "    episode_number = 600\n",
    "    steps = 500\n",
    "    gama = 0.9\n",
    "    alpha = 0.25\n",
    "    row_number = 4\n",
    "    column_number = 12\n",
    "    #construct the environment here q values are random integers\n",
    "    stateGrid = [[States('O',-1,y,x) for x in range (column_number)] for y in range(row_number)]\n",
    "    #print(random.choice(actionList)) this code segment changes a random action from the list\n",
    "    display2D(stateGrid)\n",
    "    print(\"OK HERE WE STOP\")\n",
    "    stateGrid[row_number - 1][0].changeSign('S')\n",
    "    stateGrid[row_number - 1][column_number - 1].changeSign('F')\n",
    "    for i in range(10):\n",
    "        stateGrid[row_number - 1][i+1].changeSign('C')\n",
    "    #this loop displays the two d array in a neat format\n",
    "    display2D(stateGrid)\n",
    "    #construction stopped here\n",
    "    handleRewards(stateGrid, row_number - 1, column_number)\n",
    "    displayRewards(stateGrid)\n",
    "    print(\"CONSTRUCTED\")\n",
    "    stateGrid2 = copy.deepcopy(stateGrid)\n",
    "    applySarsa(stateGrid, row_number, column_number, episode_number, steps, alpha, gama)\n",
    "    applyQlearning(stateGrid2, row_number, column_number, episode_number, steps, alpha, gama)\n",
    "\n",
    "if __name__ == \"__main__\":\n",
    "    main()\n"
   ]
  },
  {
   "cell_type": "markdown",
   "metadata": {},
   "source": [
    "As it can be seen here at first the agent constantly falls to the cliff so that the reward is significant low. After nearly 100 episodes the agent learns and average reward increases. With Q-Learning agent takes the closer but dangerous road, with Sarsa it takes the safest but long path. İn terms of average reward at the end of the training, since SARSA cares safety its average is greater than Q-Learning."
   ]
  },
  {
   "cell_type": "markdown",
   "metadata": {},
   "source": [
    "Overall the code works fine. Some further changes can be made correct some unnecessary segments."
   ]
  },
  {
   "cell_type": "code",
   "execution_count": null,
   "metadata": {},
   "outputs": [],
   "source": []
  }
 ],
 "metadata": {
  "kernelspec": {
   "display_name": "Python 3",
   "language": "python",
   "name": "python3"
  },
  "language_info": {
   "codemirror_mode": {
    "name": "ipython",
    "version": 3
   },
   "file_extension": ".py",
   "mimetype": "text/x-python",
   "name": "python",
   "nbconvert_exporter": "python",
   "pygments_lexer": "ipython3",
   "version": "3.7.1"
  }
 },
 "nbformat": 4,
 "nbformat_minor": 2
}
